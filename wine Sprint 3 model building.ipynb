{
 "cells": [
  {
   "cell_type": "markdown",
   "id": "050b42a3",
   "metadata": {},
   "source": [
    "### Loading Data"
   ]
  },
  {
   "cell_type": "code",
   "execution_count": 2,
   "id": "4b3b5e4e",
   "metadata": {},
   "outputs": [],
   "source": [
    "import numpy as np\n",
    "import pandas as pd\n",
    "\n",
    "import matplotlib.pyplot as plt\n",
    "import seaborn as sns"
   ]
  },
  {
   "cell_type": "code",
   "execution_count": 3,
   "id": "66dbc519",
   "metadata": {},
   "outputs": [
    {
     "data": {
      "text/html": [
       "<div>\n",
       "<style scoped>\n",
       "    .dataframe tbody tr th:only-of-type {\n",
       "        vertical-align: middle;\n",
       "    }\n",
       "\n",
       "    .dataframe tbody tr th {\n",
       "        vertical-align: top;\n",
       "    }\n",
       "\n",
       "    .dataframe thead th {\n",
       "        text-align: right;\n",
       "    }\n",
       "</style>\n",
       "<table border=\"1\" class=\"dataframe\">\n",
       "  <thead>\n",
       "    <tr style=\"text-align: right;\">\n",
       "      <th></th>\n",
       "      <th>fixed acidity</th>\n",
       "      <th>volatile acidity</th>\n",
       "      <th>citric acid</th>\n",
       "      <th>residual sugar</th>\n",
       "      <th>chlorides</th>\n",
       "      <th>free sulfur dioxide</th>\n",
       "      <th>total sulfur dioxide</th>\n",
       "      <th>density</th>\n",
       "      <th>pH</th>\n",
       "      <th>sulphates</th>\n",
       "      <th>alcohol</th>\n",
       "      <th>quality</th>\n",
       "      <th>good</th>\n",
       "      <th>color</th>\n",
       "    </tr>\n",
       "  </thead>\n",
       "  <tbody>\n",
       "    <tr>\n",
       "      <th>0</th>\n",
       "      <td>7.4</td>\n",
       "      <td>0.70</td>\n",
       "      <td>0.00</td>\n",
       "      <td>1.9</td>\n",
       "      <td>0.076</td>\n",
       "      <td>11.0</td>\n",
       "      <td>34.0</td>\n",
       "      <td>0.9978</td>\n",
       "      <td>3.51</td>\n",
       "      <td>0.56</td>\n",
       "      <td>9.4</td>\n",
       "      <td>5</td>\n",
       "      <td>0</td>\n",
       "      <td>red</td>\n",
       "    </tr>\n",
       "    <tr>\n",
       "      <th>1</th>\n",
       "      <td>7.8</td>\n",
       "      <td>0.88</td>\n",
       "      <td>0.00</td>\n",
       "      <td>2.6</td>\n",
       "      <td>0.098</td>\n",
       "      <td>25.0</td>\n",
       "      <td>67.0</td>\n",
       "      <td>0.9968</td>\n",
       "      <td>3.20</td>\n",
       "      <td>0.68</td>\n",
       "      <td>9.8</td>\n",
       "      <td>5</td>\n",
       "      <td>0</td>\n",
       "      <td>red</td>\n",
       "    </tr>\n",
       "    <tr>\n",
       "      <th>2</th>\n",
       "      <td>7.8</td>\n",
       "      <td>0.76</td>\n",
       "      <td>0.04</td>\n",
       "      <td>2.3</td>\n",
       "      <td>0.092</td>\n",
       "      <td>15.0</td>\n",
       "      <td>54.0</td>\n",
       "      <td>0.9970</td>\n",
       "      <td>3.26</td>\n",
       "      <td>0.65</td>\n",
       "      <td>9.8</td>\n",
       "      <td>5</td>\n",
       "      <td>0</td>\n",
       "      <td>red</td>\n",
       "    </tr>\n",
       "    <tr>\n",
       "      <th>3</th>\n",
       "      <td>11.2</td>\n",
       "      <td>0.28</td>\n",
       "      <td>0.56</td>\n",
       "      <td>1.9</td>\n",
       "      <td>0.075</td>\n",
       "      <td>17.0</td>\n",
       "      <td>60.0</td>\n",
       "      <td>0.9980</td>\n",
       "      <td>3.16</td>\n",
       "      <td>0.58</td>\n",
       "      <td>9.8</td>\n",
       "      <td>6</td>\n",
       "      <td>0</td>\n",
       "      <td>red</td>\n",
       "    </tr>\n",
       "    <tr>\n",
       "      <th>4</th>\n",
       "      <td>7.4</td>\n",
       "      <td>0.70</td>\n",
       "      <td>0.00</td>\n",
       "      <td>1.9</td>\n",
       "      <td>0.076</td>\n",
       "      <td>11.0</td>\n",
       "      <td>34.0</td>\n",
       "      <td>0.9978</td>\n",
       "      <td>3.51</td>\n",
       "      <td>0.56</td>\n",
       "      <td>9.4</td>\n",
       "      <td>5</td>\n",
       "      <td>0</td>\n",
       "      <td>red</td>\n",
       "    </tr>\n",
       "  </tbody>\n",
       "</table>\n",
       "</div>"
      ],
      "text/plain": [
       "   fixed acidity  volatile acidity  citric acid  residual sugar  chlorides  \\\n",
       "0            7.4              0.70         0.00             1.9      0.076   \n",
       "1            7.8              0.88         0.00             2.6      0.098   \n",
       "2            7.8              0.76         0.04             2.3      0.092   \n",
       "3           11.2              0.28         0.56             1.9      0.075   \n",
       "4            7.4              0.70         0.00             1.9      0.076   \n",
       "\n",
       "   free sulfur dioxide  total sulfur dioxide  density    pH  sulphates  \\\n",
       "0                 11.0                  34.0   0.9978  3.51       0.56   \n",
       "1                 25.0                  67.0   0.9968  3.20       0.68   \n",
       "2                 15.0                  54.0   0.9970  3.26       0.65   \n",
       "3                 17.0                  60.0   0.9980  3.16       0.58   \n",
       "4                 11.0                  34.0   0.9978  3.51       0.56   \n",
       "\n",
       "   alcohol  quality  good color  \n",
       "0      9.4        5     0   red  \n",
       "1      9.8        5     0   red  \n",
       "2      9.8        5     0   red  \n",
       "3      9.8        6     0   red  \n",
       "4      9.4        5     0   red  "
      ]
     },
     "execution_count": 3,
     "metadata": {},
     "output_type": "execute_result"
    }
   ],
   "source": [
    "df=pd.read_csv(r\"C:\\Users\\routj\\Downloads\\winequality.csv\")\n",
    "df.head()"
   ]
  },
  {
   "cell_type": "code",
   "execution_count": 4,
   "id": "7049c14d",
   "metadata": {},
   "outputs": [
    {
     "data": {
      "text/plain": [
       "(6497, 14)"
      ]
     },
     "execution_count": 4,
     "metadata": {},
     "output_type": "execute_result"
    }
   ],
   "source": [
    "df.shape"
   ]
  },
  {
   "cell_type": "code",
   "execution_count": 5,
   "id": "eb95cdd1",
   "metadata": {},
   "outputs": [
    {
     "data": {
      "text/plain": [
       "Index(['fixed acidity', 'volatile acidity', 'citric acid', 'residual sugar',\n",
       "       'chlorides', 'free sulfur dioxide', 'total sulfur dioxide', 'density',\n",
       "       'pH', 'sulphates', 'alcohol', 'quality', 'good', 'color'],\n",
       "      dtype='object')"
      ]
     },
     "execution_count": 5,
     "metadata": {},
     "output_type": "execute_result"
    }
   ],
   "source": [
    "df.columns"
   ]
  },
  {
   "cell_type": "code",
   "execution_count": 6,
   "id": "173cd51f",
   "metadata": {},
   "outputs": [
    {
     "name": "stdout",
     "output_type": "stream",
     "text": [
      "<class 'pandas.core.frame.DataFrame'>\n",
      "RangeIndex: 6497 entries, 0 to 6496\n",
      "Data columns (total 14 columns):\n",
      " #   Column                Non-Null Count  Dtype  \n",
      "---  ------                --------------  -----  \n",
      " 0   fixed acidity         6497 non-null   float64\n",
      " 1   volatile acidity      6497 non-null   float64\n",
      " 2   citric acid           6497 non-null   float64\n",
      " 3   residual sugar        6497 non-null   float64\n",
      " 4   chlorides             6497 non-null   float64\n",
      " 5   free sulfur dioxide   6497 non-null   float64\n",
      " 6   total sulfur dioxide  6497 non-null   float64\n",
      " 7   density               6497 non-null   float64\n",
      " 8   pH                    6497 non-null   float64\n",
      " 9   sulphates             6497 non-null   float64\n",
      " 10  alcohol               6497 non-null   float64\n",
      " 11  quality               6497 non-null   int64  \n",
      " 12  good                  6497 non-null   int64  \n",
      " 13  color                 6497 non-null   object \n",
      "dtypes: float64(11), int64(2), object(1)\n",
      "memory usage: 710.7+ KB\n"
     ]
    }
   ],
   "source": [
    "df.info()"
   ]
  },
  {
   "cell_type": "markdown",
   "id": "c939bff5",
   "metadata": {},
   "source": [
    "### Input and Target Variable"
   ]
  },
  {
   "cell_type": "markdown",
   "id": "00038438",
   "metadata": {},
   "source": [
    "`Input`\n",
    "- 1)fixed acidity\t\n",
    "-  2)volatile acidity\n",
    "- 3)citric acid\n",
    "- 4)residual sugar\t\n",
    "- 5)chlorides\t\n",
    "- 6)free sulfur dioxide\t\n",
    "- 7)total sulfur dioxide\t\n",
    "- 8)density\t\n",
    "- 9)pH\n",
    "- 10)sulphates\n",
    "- 11)alcohol\n",
    "- 12)good\n",
    "- 13)color\n",
    "\n",
    "`Target Variable`\n",
    "- 1)quality"
   ]
  },
  {
   "cell_type": "markdown",
   "id": "3ecfb51a",
   "metadata": {},
   "source": [
    "### Type of ML Task"
   ]
  },
  {
   "cell_type": "markdown",
   "id": "80f11d30",
   "metadata": {},
   "source": [
    "* Classification"
   ]
  },
  {
   "cell_type": "markdown",
   "id": "39dda006",
   "metadata": {},
   "source": [
    "### Evaluation Metric"
   ]
  },
  {
   "cell_type": "markdown",
   "id": "acde59b4",
   "metadata": {},
   "source": [
    "* Accuracy"
   ]
  },
  {
   "cell_type": "code",
   "execution_count": 7,
   "id": "75cd60e1",
   "metadata": {},
   "outputs": [],
   "source": [
    "import sklearn"
   ]
  },
  {
   "cell_type": "code",
   "execution_count": 8,
   "id": "5032c2e7",
   "metadata": {},
   "outputs": [],
   "source": [
    "y = df.pop(\"quality\")\n",
    "X = df"
   ]
  },
  {
   "cell_type": "markdown",
   "id": "dd456cca",
   "metadata": {},
   "source": [
    "### Splitting the dataset into Training and Testing"
   ]
  },
  {
   "cell_type": "code",
   "execution_count": 9,
   "id": "7b581a78",
   "metadata": {},
   "outputs": [
    {
     "name": "stdout",
     "output_type": "stream",
     "text": [
      "(4872, 13) (4872,)\n",
      "(1625, 13) (1625,)\n"
     ]
    }
   ],
   "source": [
    "from sklearn.model_selection import train_test_split\n",
    "\n",
    "X_train, X_test, y_train, y_test = train_test_split(X, y, \n",
    "                                                    test_size = 0.25, \n",
    "                                                    random_state = 0)\n",
    "\n",
    "print(X_train.shape, y_train.shape)\n",
    "print(X_test.shape, y_test.shape)\n"
   ]
  },
  {
   "cell_type": "markdown",
   "id": "b5f59fe9",
   "metadata": {},
   "source": [
    "### Separate Numerical and Categorical Features"
   ]
  },
  {
   "cell_type": "code",
   "execution_count": 10,
   "id": "8e093b6d",
   "metadata": {},
   "outputs": [],
   "source": [
    "X_train_cat = X_train.select_dtypes(include=['object'])\n",
    "X_train_num = X_train.select_dtypes(include=['int64', 'float64'])"
   ]
  },
  {
   "cell_type": "code",
   "execution_count": 11,
   "id": "e87add74",
   "metadata": {},
   "outputs": [
    {
     "data": {
      "text/html": [
       "<div>\n",
       "<style scoped>\n",
       "    .dataframe tbody tr th:only-of-type {\n",
       "        vertical-align: middle;\n",
       "    }\n",
       "\n",
       "    .dataframe tbody tr th {\n",
       "        vertical-align: top;\n",
       "    }\n",
       "\n",
       "    .dataframe thead th {\n",
       "        text-align: right;\n",
       "    }\n",
       "</style>\n",
       "<table border=\"1\" class=\"dataframe\">\n",
       "  <thead>\n",
       "    <tr style=\"text-align: right;\">\n",
       "      <th></th>\n",
       "      <th>color</th>\n",
       "    </tr>\n",
       "  </thead>\n",
       "  <tbody>\n",
       "    <tr>\n",
       "      <th>3731</th>\n",
       "      <td>white</td>\n",
       "    </tr>\n",
       "    <tr>\n",
       "      <th>1651</th>\n",
       "      <td>white</td>\n",
       "    </tr>\n",
       "    <tr>\n",
       "      <th>5060</th>\n",
       "      <td>white</td>\n",
       "    </tr>\n",
       "    <tr>\n",
       "      <th>1303</th>\n",
       "      <td>red</td>\n",
       "    </tr>\n",
       "    <tr>\n",
       "      <th>474</th>\n",
       "      <td>red</td>\n",
       "    </tr>\n",
       "  </tbody>\n",
       "</table>\n",
       "</div>"
      ],
      "text/plain": [
       "      color\n",
       "3731  white\n",
       "1651  white\n",
       "5060  white\n",
       "1303    red\n",
       "474     red"
      ]
     },
     "execution_count": 11,
     "metadata": {},
     "output_type": "execute_result"
    }
   ],
   "source": [
    "X_train_cat.head()"
   ]
  },
  {
   "cell_type": "code",
   "execution_count": 12,
   "id": "e07a59b3",
   "metadata": {},
   "outputs": [
    {
     "data": {
      "text/html": [
       "<div>\n",
       "<style scoped>\n",
       "    .dataframe tbody tr th:only-of-type {\n",
       "        vertical-align: middle;\n",
       "    }\n",
       "\n",
       "    .dataframe tbody tr th {\n",
       "        vertical-align: top;\n",
       "    }\n",
       "\n",
       "    .dataframe thead th {\n",
       "        text-align: right;\n",
       "    }\n",
       "</style>\n",
       "<table border=\"1\" class=\"dataframe\">\n",
       "  <thead>\n",
       "    <tr style=\"text-align: right;\">\n",
       "      <th></th>\n",
       "      <th>fixed acidity</th>\n",
       "      <th>volatile acidity</th>\n",
       "      <th>citric acid</th>\n",
       "      <th>residual sugar</th>\n",
       "      <th>chlorides</th>\n",
       "      <th>free sulfur dioxide</th>\n",
       "      <th>total sulfur dioxide</th>\n",
       "      <th>density</th>\n",
       "      <th>pH</th>\n",
       "      <th>sulphates</th>\n",
       "      <th>alcohol</th>\n",
       "      <th>good</th>\n",
       "    </tr>\n",
       "  </thead>\n",
       "  <tbody>\n",
       "    <tr>\n",
       "      <th>3731</th>\n",
       "      <td>7.1</td>\n",
       "      <td>0.22</td>\n",
       "      <td>0.32</td>\n",
       "      <td>16.90</td>\n",
       "      <td>0.056</td>\n",
       "      <td>49.0</td>\n",
       "      <td>158.0</td>\n",
       "      <td>0.99980</td>\n",
       "      <td>3.37</td>\n",
       "      <td>0.38</td>\n",
       "      <td>9.6</td>\n",
       "      <td>0</td>\n",
       "    </tr>\n",
       "    <tr>\n",
       "      <th>1651</th>\n",
       "      <td>6.2</td>\n",
       "      <td>0.16</td>\n",
       "      <td>0.33</td>\n",
       "      <td>1.10</td>\n",
       "      <td>0.057</td>\n",
       "      <td>21.0</td>\n",
       "      <td>82.0</td>\n",
       "      <td>0.99100</td>\n",
       "      <td>3.32</td>\n",
       "      <td>0.46</td>\n",
       "      <td>10.9</td>\n",
       "      <td>1</td>\n",
       "    </tr>\n",
       "    <tr>\n",
       "      <th>5060</th>\n",
       "      <td>6.7</td>\n",
       "      <td>0.24</td>\n",
       "      <td>0.30</td>\n",
       "      <td>3.85</td>\n",
       "      <td>0.042</td>\n",
       "      <td>105.0</td>\n",
       "      <td>179.0</td>\n",
       "      <td>0.99189</td>\n",
       "      <td>3.04</td>\n",
       "      <td>0.59</td>\n",
       "      <td>11.3</td>\n",
       "      <td>1</td>\n",
       "    </tr>\n",
       "    <tr>\n",
       "      <th>1303</th>\n",
       "      <td>8.0</td>\n",
       "      <td>0.28</td>\n",
       "      <td>0.44</td>\n",
       "      <td>1.80</td>\n",
       "      <td>0.081</td>\n",
       "      <td>28.0</td>\n",
       "      <td>68.0</td>\n",
       "      <td>0.99501</td>\n",
       "      <td>3.36</td>\n",
       "      <td>0.66</td>\n",
       "      <td>11.2</td>\n",
       "      <td>0</td>\n",
       "    </tr>\n",
       "    <tr>\n",
       "      <th>474</th>\n",
       "      <td>10.5</td>\n",
       "      <td>0.28</td>\n",
       "      <td>0.51</td>\n",
       "      <td>1.70</td>\n",
       "      <td>0.080</td>\n",
       "      <td>10.0</td>\n",
       "      <td>24.0</td>\n",
       "      <td>0.99820</td>\n",
       "      <td>3.20</td>\n",
       "      <td>0.89</td>\n",
       "      <td>9.4</td>\n",
       "      <td>0</td>\n",
       "    </tr>\n",
       "  </tbody>\n",
       "</table>\n",
       "</div>"
      ],
      "text/plain": [
       "      fixed acidity  volatile acidity  citric acid  residual sugar  chlorides  \\\n",
       "3731            7.1              0.22         0.32           16.90      0.056   \n",
       "1651            6.2              0.16         0.33            1.10      0.057   \n",
       "5060            6.7              0.24         0.30            3.85      0.042   \n",
       "1303            8.0              0.28         0.44            1.80      0.081   \n",
       "474            10.5              0.28         0.51            1.70      0.080   \n",
       "\n",
       "      free sulfur dioxide  total sulfur dioxide  density    pH  sulphates  \\\n",
       "3731                 49.0                 158.0  0.99980  3.37       0.38   \n",
       "1651                 21.0                  82.0  0.99100  3.32       0.46   \n",
       "5060                105.0                 179.0  0.99189  3.04       0.59   \n",
       "1303                 28.0                  68.0  0.99501  3.36       0.66   \n",
       "474                  10.0                  24.0  0.99820  3.20       0.89   \n",
       "\n",
       "      alcohol  good  \n",
       "3731      9.6     0  \n",
       "1651     10.9     1  \n",
       "5060     11.3     1  \n",
       "1303     11.2     0  \n",
       "474       9.4     0  "
      ]
     },
     "execution_count": 12,
     "metadata": {},
     "output_type": "execute_result"
    }
   ],
   "source": [
    "X_train_num.head()"
   ]
  },
  {
   "cell_type": "markdown",
   "id": "3f098a16",
   "metadata": {},
   "source": [
    "### Data preparation on train data"
   ]
  },
  {
   "cell_type": "markdown",
   "id": "dd316188",
   "metadata": {},
   "source": [
    "### Numerical Feature Transformation: Applying Standardization"
   ]
  },
  {
   "cell_type": "code",
   "execution_count": 13,
   "id": "1e8a5a97",
   "metadata": {},
   "outputs": [
    {
     "data": {
      "text/html": [
       "<div>\n",
       "<style scoped>\n",
       "    .dataframe tbody tr th:only-of-type {\n",
       "        vertical-align: middle;\n",
       "    }\n",
       "\n",
       "    .dataframe tbody tr th {\n",
       "        vertical-align: top;\n",
       "    }\n",
       "\n",
       "    .dataframe thead th {\n",
       "        text-align: right;\n",
       "    }\n",
       "</style>\n",
       "<table border=\"1\" class=\"dataframe\">\n",
       "  <thead>\n",
       "    <tr style=\"text-align: right;\">\n",
       "      <th></th>\n",
       "      <th>fixed acidity</th>\n",
       "      <th>volatile acidity</th>\n",
       "      <th>citric acid</th>\n",
       "      <th>residual sugar</th>\n",
       "      <th>chlorides</th>\n",
       "      <th>free sulfur dioxide</th>\n",
       "      <th>total sulfur dioxide</th>\n",
       "      <th>density</th>\n",
       "      <th>pH</th>\n",
       "      <th>sulphates</th>\n",
       "      <th>alcohol</th>\n",
       "      <th>good</th>\n",
       "    </tr>\n",
       "  </thead>\n",
       "  <tbody>\n",
       "    <tr>\n",
       "      <th>3731</th>\n",
       "      <td>-0.088021</td>\n",
       "      <td>-0.728201</td>\n",
       "      <td>0.005177</td>\n",
       "      <td>2.485175</td>\n",
       "      <td>-0.005890</td>\n",
       "      <td>1.029723</td>\n",
       "      <td>0.744625</td>\n",
       "      <td>1.752513</td>\n",
       "      <td>0.951116</td>\n",
       "      <td>-1.009331</td>\n",
       "      <td>-0.752815</td>\n",
       "      <td>-0.493127</td>\n",
       "    </tr>\n",
       "    <tr>\n",
       "      <th>1651</th>\n",
       "      <td>-0.785384</td>\n",
       "      <td>-1.090723</td>\n",
       "      <td>0.073901</td>\n",
       "      <td>-0.919647</td>\n",
       "      <td>0.022270</td>\n",
       "      <td>-0.530152</td>\n",
       "      <td>-0.596653</td>\n",
       "      <td>-1.250263</td>\n",
       "      <td>0.639915</td>\n",
       "      <td>-0.478861</td>\n",
       "      <td>0.340737</td>\n",
       "      <td>2.027875</td>\n",
       "    </tr>\n",
       "    <tr>\n",
       "      <th>5060</th>\n",
       "      <td>-0.397960</td>\n",
       "      <td>-0.607360</td>\n",
       "      <td>-0.132272</td>\n",
       "      <td>-0.327035</td>\n",
       "      <td>-0.400119</td>\n",
       "      <td>4.149473</td>\n",
       "      <td>1.115241</td>\n",
       "      <td>-0.946574</td>\n",
       "      <td>-1.102807</td>\n",
       "      <td>0.383154</td>\n",
       "      <td>0.677215</td>\n",
       "      <td>2.027875</td>\n",
       "    </tr>\n",
       "    <tr>\n",
       "      <th>1303</th>\n",
       "      <td>0.609341</td>\n",
       "      <td>-0.365678</td>\n",
       "      <td>0.829868</td>\n",
       "      <td>-0.768800</td>\n",
       "      <td>0.698091</td>\n",
       "      <td>-0.140184</td>\n",
       "      <td>-0.843731</td>\n",
       "      <td>0.118047</td>\n",
       "      <td>0.888876</td>\n",
       "      <td>0.847315</td>\n",
       "      <td>0.593095</td>\n",
       "      <td>-0.493127</td>\n",
       "    </tr>\n",
       "    <tr>\n",
       "      <th>474</th>\n",
       "      <td>2.546459</td>\n",
       "      <td>-0.365678</td>\n",
       "      <td>1.310939</td>\n",
       "      <td>-0.790350</td>\n",
       "      <td>0.669932</td>\n",
       "      <td>-1.142960</td>\n",
       "      <td>-1.620260</td>\n",
       "      <td>1.206553</td>\n",
       "      <td>-0.106966</td>\n",
       "      <td>2.372417</td>\n",
       "      <td>-0.921054</td>\n",
       "      <td>-0.493127</td>\n",
       "    </tr>\n",
       "  </tbody>\n",
       "</table>\n",
       "</div>"
      ],
      "text/plain": [
       "      fixed acidity  volatile acidity  citric acid  residual sugar  chlorides  \\\n",
       "3731      -0.088021         -0.728201     0.005177        2.485175  -0.005890   \n",
       "1651      -0.785384         -1.090723     0.073901       -0.919647   0.022270   \n",
       "5060      -0.397960         -0.607360    -0.132272       -0.327035  -0.400119   \n",
       "1303       0.609341         -0.365678     0.829868       -0.768800   0.698091   \n",
       "474        2.546459         -0.365678     1.310939       -0.790350   0.669932   \n",
       "\n",
       "      free sulfur dioxide  total sulfur dioxide   density        pH  \\\n",
       "3731             1.029723              0.744625  1.752513  0.951116   \n",
       "1651            -0.530152             -0.596653 -1.250263  0.639915   \n",
       "5060             4.149473              1.115241 -0.946574 -1.102807   \n",
       "1303            -0.140184             -0.843731  0.118047  0.888876   \n",
       "474             -1.142960             -1.620260  1.206553 -0.106966   \n",
       "\n",
       "      sulphates   alcohol      good  \n",
       "3731  -1.009331 -0.752815 -0.493127  \n",
       "1651  -0.478861  0.340737  2.027875  \n",
       "5060   0.383154  0.677215  2.027875  \n",
       "1303   0.847315  0.593095 -0.493127  \n",
       "474    2.372417 -0.921054 -0.493127  "
      ]
     },
     "execution_count": 13,
     "metadata": {},
     "output_type": "execute_result"
    }
   ],
   "source": [
    "from sklearn.preprocessing import StandardScaler\n",
    "\n",
    "scaler = StandardScaler()\n",
    "\n",
    "\n",
    "X_train_num_transformed = pd.DataFrame(scaler.fit_transform(X_train_num), \n",
    "                                    columns = scaler.get_feature_names_out(), \n",
    "                                    index = X_train_num.index)\n",
    "\n",
    "X_train_num_transformed.head()"
   ]
  },
  {
   "cell_type": "code",
   "execution_count": 14,
   "id": "556307e4",
   "metadata": {},
   "outputs": [
    {
     "name": "stdout",
     "output_type": "stream",
     "text": [
      "Number of Numerical Features: 12\n",
      "Output Feature Names: ['fixed acidity' 'volatile acidity' 'citric acid' 'residual sugar'\n",
      " 'chlorides' 'free sulfur dioxide' 'total sulfur dioxide' 'density' 'pH'\n",
      " 'sulphates' 'alcohol' 'good']\n",
      "Mean of each column: [7.21359811e+00 3.40522373e-01 3.19246716e-01 5.36760057e+00\n",
      " 5.62091544e-02 3.05163177e+01 1.15807779e+02 9.94664049e-01\n",
      " 3.21718596e+00 5.32216749e-01 1.04949364e+01 1.95607553e-01]\n",
      "Std of each column: [1.29057716e+00 1.65507068e-01 1.45508942e-01 4.64047865e+00\n",
      " 3.55123417e-02 1.79501565e+01 5.66623750e+01 2.93062143e-03\n",
      " 1.60668196e-01 1.50809569e-01 1.18878662e+00 3.96667667e-01]\n"
     ]
    }
   ],
   "source": [
    "\n",
    "print(\"Number of Numerical Features:\", scaler.n_features_in_)\n",
    "print(\"Output Feature Names:\", scaler.get_feature_names_out())\n",
    "print(\"Mean of each column:\", scaler.mean_)\n",
    "print(\"Std of each column:\", np.sqrt(scaler.var_))"
   ]
  },
  {
   "cell_type": "code",
   "execution_count": null,
   "id": "6a50985e",
   "metadata": {},
   "outputs": [],
   "source": []
  },
  {
   "cell_type": "markdown",
   "id": "f8896474",
   "metadata": {},
   "source": [
    "### Categorical Feature Transformation: Applying Label"
   ]
  },
  {
   "cell_type": "code",
   "execution_count": 15,
   "id": "01b66030",
   "metadata": {},
   "outputs": [
    {
     "data": {
      "text/html": [
       "<div>\n",
       "<style scoped>\n",
       "    .dataframe tbody tr th:only-of-type {\n",
       "        vertical-align: middle;\n",
       "    }\n",
       "\n",
       "    .dataframe tbody tr th {\n",
       "        vertical-align: top;\n",
       "    }\n",
       "\n",
       "    .dataframe thead th {\n",
       "        text-align: right;\n",
       "    }\n",
       "</style>\n",
       "<table border=\"1\" class=\"dataframe\">\n",
       "  <thead>\n",
       "    <tr style=\"text-align: right;\">\n",
       "      <th></th>\n",
       "      <th>color</th>\n",
       "    </tr>\n",
       "  </thead>\n",
       "  <tbody>\n",
       "    <tr>\n",
       "      <th>3731</th>\n",
       "      <td>1</td>\n",
       "    </tr>\n",
       "    <tr>\n",
       "      <th>1651</th>\n",
       "      <td>1</td>\n",
       "    </tr>\n",
       "    <tr>\n",
       "      <th>5060</th>\n",
       "      <td>1</td>\n",
       "    </tr>\n",
       "    <tr>\n",
       "      <th>1303</th>\n",
       "      <td>0</td>\n",
       "    </tr>\n",
       "    <tr>\n",
       "      <th>474</th>\n",
       "      <td>0</td>\n",
       "    </tr>\n",
       "  </tbody>\n",
       "</table>\n",
       "</div>"
      ],
      "text/plain": [
       "      color\n",
       "3731      1\n",
       "1651      1\n",
       "5060      1\n",
       "1303      0\n",
       "474       0"
      ]
     },
     "execution_count": 15,
     "metadata": {},
     "output_type": "execute_result"
    }
   ],
   "source": [
    "import pandas as pd\n",
    "from sklearn.preprocessing import LabelEncoder\n",
    "\n",
    "X_train_cat_transformed = X_train_cat.copy()\n",
    "\n",
    "label_encoder = LabelEncoder()\n",
    "\n",
    "for i in X_train_cat.columns:\n",
    "    X_train_cat_transformed[i] = label_encoder.fit_transform(X_train_cat[i])\n",
    "\n",
    "X_train_cat_transformed.head()\n"
   ]
  },
  {
   "cell_type": "markdown",
   "id": "a198d182",
   "metadata": {},
   "source": [
    "### Concatenate X_train_num_transformed and X_train_cat_transformed"
   ]
  },
  {
   "cell_type": "code",
   "execution_count": 16,
   "id": "1358f7e6",
   "metadata": {},
   "outputs": [
    {
     "data": {
      "text/html": [
       "<div>\n",
       "<style scoped>\n",
       "    .dataframe tbody tr th:only-of-type {\n",
       "        vertical-align: middle;\n",
       "    }\n",
       "\n",
       "    .dataframe tbody tr th {\n",
       "        vertical-align: top;\n",
       "    }\n",
       "\n",
       "    .dataframe thead th {\n",
       "        text-align: right;\n",
       "    }\n",
       "</style>\n",
       "<table border=\"1\" class=\"dataframe\">\n",
       "  <thead>\n",
       "    <tr style=\"text-align: right;\">\n",
       "      <th></th>\n",
       "      <th>fixed acidity</th>\n",
       "      <th>volatile acidity</th>\n",
       "      <th>citric acid</th>\n",
       "      <th>residual sugar</th>\n",
       "      <th>chlorides</th>\n",
       "      <th>free sulfur dioxide</th>\n",
       "      <th>total sulfur dioxide</th>\n",
       "      <th>density</th>\n",
       "      <th>pH</th>\n",
       "      <th>sulphates</th>\n",
       "      <th>alcohol</th>\n",
       "      <th>good</th>\n",
       "      <th>color</th>\n",
       "    </tr>\n",
       "  </thead>\n",
       "  <tbody>\n",
       "    <tr>\n",
       "      <th>3731</th>\n",
       "      <td>-0.088021</td>\n",
       "      <td>-0.728201</td>\n",
       "      <td>0.005177</td>\n",
       "      <td>2.485175</td>\n",
       "      <td>-0.005890</td>\n",
       "      <td>1.029723</td>\n",
       "      <td>0.744625</td>\n",
       "      <td>1.752513</td>\n",
       "      <td>0.951116</td>\n",
       "      <td>-1.009331</td>\n",
       "      <td>-0.752815</td>\n",
       "      <td>-0.493127</td>\n",
       "      <td>1</td>\n",
       "    </tr>\n",
       "    <tr>\n",
       "      <th>1651</th>\n",
       "      <td>-0.785384</td>\n",
       "      <td>-1.090723</td>\n",
       "      <td>0.073901</td>\n",
       "      <td>-0.919647</td>\n",
       "      <td>0.022270</td>\n",
       "      <td>-0.530152</td>\n",
       "      <td>-0.596653</td>\n",
       "      <td>-1.250263</td>\n",
       "      <td>0.639915</td>\n",
       "      <td>-0.478861</td>\n",
       "      <td>0.340737</td>\n",
       "      <td>2.027875</td>\n",
       "      <td>1</td>\n",
       "    </tr>\n",
       "    <tr>\n",
       "      <th>5060</th>\n",
       "      <td>-0.397960</td>\n",
       "      <td>-0.607360</td>\n",
       "      <td>-0.132272</td>\n",
       "      <td>-0.327035</td>\n",
       "      <td>-0.400119</td>\n",
       "      <td>4.149473</td>\n",
       "      <td>1.115241</td>\n",
       "      <td>-0.946574</td>\n",
       "      <td>-1.102807</td>\n",
       "      <td>0.383154</td>\n",
       "      <td>0.677215</td>\n",
       "      <td>2.027875</td>\n",
       "      <td>1</td>\n",
       "    </tr>\n",
       "    <tr>\n",
       "      <th>1303</th>\n",
       "      <td>0.609341</td>\n",
       "      <td>-0.365678</td>\n",
       "      <td>0.829868</td>\n",
       "      <td>-0.768800</td>\n",
       "      <td>0.698091</td>\n",
       "      <td>-0.140184</td>\n",
       "      <td>-0.843731</td>\n",
       "      <td>0.118047</td>\n",
       "      <td>0.888876</td>\n",
       "      <td>0.847315</td>\n",
       "      <td>0.593095</td>\n",
       "      <td>-0.493127</td>\n",
       "      <td>0</td>\n",
       "    </tr>\n",
       "    <tr>\n",
       "      <th>474</th>\n",
       "      <td>2.546459</td>\n",
       "      <td>-0.365678</td>\n",
       "      <td>1.310939</td>\n",
       "      <td>-0.790350</td>\n",
       "      <td>0.669932</td>\n",
       "      <td>-1.142960</td>\n",
       "      <td>-1.620260</td>\n",
       "      <td>1.206553</td>\n",
       "      <td>-0.106966</td>\n",
       "      <td>2.372417</td>\n",
       "      <td>-0.921054</td>\n",
       "      <td>-0.493127</td>\n",
       "      <td>0</td>\n",
       "    </tr>\n",
       "  </tbody>\n",
       "</table>\n",
       "</div>"
      ],
      "text/plain": [
       "      fixed acidity  volatile acidity  citric acid  residual sugar  chlorides  \\\n",
       "3731      -0.088021         -0.728201     0.005177        2.485175  -0.005890   \n",
       "1651      -0.785384         -1.090723     0.073901       -0.919647   0.022270   \n",
       "5060      -0.397960         -0.607360    -0.132272       -0.327035  -0.400119   \n",
       "1303       0.609341         -0.365678     0.829868       -0.768800   0.698091   \n",
       "474        2.546459         -0.365678     1.310939       -0.790350   0.669932   \n",
       "\n",
       "      free sulfur dioxide  total sulfur dioxide   density        pH  \\\n",
       "3731             1.029723              0.744625  1.752513  0.951116   \n",
       "1651            -0.530152             -0.596653 -1.250263  0.639915   \n",
       "5060             4.149473              1.115241 -0.946574 -1.102807   \n",
       "1303            -0.140184             -0.843731  0.118047  0.888876   \n",
       "474             -1.142960             -1.620260  1.206553 -0.106966   \n",
       "\n",
       "      sulphates   alcohol      good  color  \n",
       "3731  -1.009331 -0.752815 -0.493127      1  \n",
       "1651  -0.478861  0.340737  2.027875      1  \n",
       "5060   0.383154  0.677215  2.027875      1  \n",
       "1303   0.847315  0.593095 -0.493127      0  \n",
       "474    2.372417 -0.921054 -0.493127      0  "
      ]
     },
     "execution_count": 16,
     "metadata": {},
     "output_type": "execute_result"
    }
   ],
   "source": [
    "X_train_transformed = pd.concat([X_train_num_transformed, X_train_cat_transformed], axis=1)\n",
    "\n",
    "X_train_transformed.head()\n"
   ]
  },
  {
   "cell_type": "markdown",
   "id": "ec156c68",
   "metadata": {},
   "source": [
    "### Step5:Data Preparation on test data"
   ]
  },
  {
   "cell_type": "code",
   "execution_count": 17,
   "id": "0e499d14",
   "metadata": {},
   "outputs": [],
   "source": [
    "X_test_cat = X_test.select_dtypes(include=['object'])\n",
    "X_test_num = X_test.select_dtypes(include=['int64', 'float64'])"
   ]
  },
  {
   "cell_type": "markdown",
   "id": "ba233c75",
   "metadata": {},
   "source": [
    "### Numerical Feature Transformation on test data"
   ]
  },
  {
   "cell_type": "code",
   "execution_count": 18,
   "id": "3434f23a",
   "metadata": {},
   "outputs": [
    {
     "data": {
      "text/html": [
       "<div>\n",
       "<style scoped>\n",
       "    .dataframe tbody tr th:only-of-type {\n",
       "        vertical-align: middle;\n",
       "    }\n",
       "\n",
       "    .dataframe tbody tr th {\n",
       "        vertical-align: top;\n",
       "    }\n",
       "\n",
       "    .dataframe thead th {\n",
       "        text-align: right;\n",
       "    }\n",
       "</style>\n",
       "<table border=\"1\" class=\"dataframe\">\n",
       "  <thead>\n",
       "    <tr style=\"text-align: right;\">\n",
       "      <th></th>\n",
       "      <th>fixed acidity</th>\n",
       "      <th>volatile acidity</th>\n",
       "      <th>citric acid</th>\n",
       "      <th>residual sugar</th>\n",
       "      <th>chlorides</th>\n",
       "      <th>free sulfur dioxide</th>\n",
       "      <th>total sulfur dioxide</th>\n",
       "      <th>density</th>\n",
       "      <th>pH</th>\n",
       "      <th>sulphates</th>\n",
       "      <th>alcohol</th>\n",
       "      <th>good</th>\n",
       "    </tr>\n",
       "  </thead>\n",
       "  <tbody>\n",
       "    <tr>\n",
       "      <th>5316</th>\n",
       "      <td>-0.707899</td>\n",
       "      <td>-0.969882</td>\n",
       "      <td>-0.544617</td>\n",
       "      <td>-0.424008</td>\n",
       "      <td>-0.090367</td>\n",
       "      <td>-0.585862</td>\n",
       "      <td>0.056338</td>\n",
       "      <td>-0.318720</td>\n",
       "      <td>-0.667126</td>\n",
       "      <td>-0.081008</td>\n",
       "      <td>-1.089293</td>\n",
       "      <td>-0.493127</td>\n",
       "    </tr>\n",
       "    <tr>\n",
       "      <th>5210</th>\n",
       "      <td>-0.320475</td>\n",
       "      <td>-1.211564</td>\n",
       "      <td>-0.956963</td>\n",
       "      <td>-0.854998</td>\n",
       "      <td>-0.259323</td>\n",
       "      <td>-0.028764</td>\n",
       "      <td>-0.455466</td>\n",
       "      <td>-1.031880</td>\n",
       "      <td>0.328715</td>\n",
       "      <td>0.051610</td>\n",
       "      <td>0.593095</td>\n",
       "      <td>-0.493127</td>\n",
       "    </tr>\n",
       "    <tr>\n",
       "      <th>3518</th>\n",
       "      <td>0.066948</td>\n",
       "      <td>-0.728201</td>\n",
       "      <td>1.242214</td>\n",
       "      <td>1.795591</td>\n",
       "      <td>-0.203004</td>\n",
       "      <td>1.419691</td>\n",
       "      <td>1.291725</td>\n",
       "      <td>1.616023</td>\n",
       "      <td>0.141995</td>\n",
       "      <td>0.847315</td>\n",
       "      <td>-1.257531</td>\n",
       "      <td>-0.493127</td>\n",
       "    </tr>\n",
       "    <tr>\n",
       "      <th>1622</th>\n",
       "      <td>0.299402</td>\n",
       "      <td>1.990716</td>\n",
       "      <td>-1.231860</td>\n",
       "      <td>-0.833449</td>\n",
       "      <td>0.500976</td>\n",
       "      <td>-0.307313</td>\n",
       "      <td>0.921109</td>\n",
       "      <td>-0.328957</td>\n",
       "      <td>-1.040567</td>\n",
       "      <td>-0.147317</td>\n",
       "      <td>-1.005173</td>\n",
       "      <td>-0.493127</td>\n",
       "    </tr>\n",
       "    <tr>\n",
       "      <th>2443</th>\n",
       "      <td>0.066948</td>\n",
       "      <td>-0.788621</td>\n",
       "      <td>-0.200996</td>\n",
       "      <td>-0.811899</td>\n",
       "      <td>-0.625393</td>\n",
       "      <td>-0.084474</td>\n",
       "      <td>0.038689</td>\n",
       "      <td>-1.011406</td>\n",
       "      <td>0.515435</td>\n",
       "      <td>-0.213625</td>\n",
       "      <td>0.424856</td>\n",
       "      <td>2.027875</td>\n",
       "    </tr>\n",
       "  </tbody>\n",
       "</table>\n",
       "</div>"
      ],
      "text/plain": [
       "      fixed acidity  volatile acidity  citric acid  residual sugar  chlorides  \\\n",
       "5316      -0.707899         -0.969882    -0.544617       -0.424008  -0.090367   \n",
       "5210      -0.320475         -1.211564    -0.956963       -0.854998  -0.259323   \n",
       "3518       0.066948         -0.728201     1.242214        1.795591  -0.203004   \n",
       "1622       0.299402          1.990716    -1.231860       -0.833449   0.500976   \n",
       "2443       0.066948         -0.788621    -0.200996       -0.811899  -0.625393   \n",
       "\n",
       "      free sulfur dioxide  total sulfur dioxide   density        pH  \\\n",
       "5316            -0.585862              0.056338 -0.318720 -0.667126   \n",
       "5210            -0.028764             -0.455466 -1.031880  0.328715   \n",
       "3518             1.419691              1.291725  1.616023  0.141995   \n",
       "1622            -0.307313              0.921109 -0.328957 -1.040567   \n",
       "2443            -0.084474              0.038689 -1.011406  0.515435   \n",
       "\n",
       "      sulphates   alcohol      good  \n",
       "5316  -0.081008 -1.089293 -0.493127  \n",
       "5210   0.051610  0.593095 -0.493127  \n",
       "3518   0.847315 -1.257531 -0.493127  \n",
       "1622  -0.147317 -1.005173 -0.493127  \n",
       "2443  -0.213625  0.424856  2.027875  "
      ]
     },
     "execution_count": 18,
     "metadata": {},
     "output_type": "execute_result"
    }
   ],
   "source": [
    "\n",
    "X_test_num_transformed = pd.DataFrame(scaler.transform(X_test_num), \n",
    "                                   columns = scaler.get_feature_names_out(), \n",
    "                                   index = X_test_num.index)\n",
    "\n",
    "X_test_num_transformed.head()"
   ]
  },
  {
   "cell_type": "markdown",
   "id": "0dd6cee6",
   "metadata": {},
   "source": [
    "### Categorical Feature transformation on test data"
   ]
  },
  {
   "cell_type": "code",
   "execution_count": 19,
   "id": "7521ba5c",
   "metadata": {},
   "outputs": [
    {
     "data": {
      "text/html": [
       "<div>\n",
       "<style scoped>\n",
       "    .dataframe tbody tr th:only-of-type {\n",
       "        vertical-align: middle;\n",
       "    }\n",
       "\n",
       "    .dataframe tbody tr th {\n",
       "        vertical-align: top;\n",
       "    }\n",
       "\n",
       "    .dataframe thead th {\n",
       "        text-align: right;\n",
       "    }\n",
       "</style>\n",
       "<table border=\"1\" class=\"dataframe\">\n",
       "  <thead>\n",
       "    <tr style=\"text-align: right;\">\n",
       "      <th></th>\n",
       "      <th>color</th>\n",
       "    </tr>\n",
       "  </thead>\n",
       "  <tbody>\n",
       "    <tr>\n",
       "      <th>5316</th>\n",
       "      <td>1</td>\n",
       "    </tr>\n",
       "    <tr>\n",
       "      <th>5210</th>\n",
       "      <td>1</td>\n",
       "    </tr>\n",
       "    <tr>\n",
       "      <th>3518</th>\n",
       "      <td>1</td>\n",
       "    </tr>\n",
       "    <tr>\n",
       "      <th>1622</th>\n",
       "      <td>1</td>\n",
       "    </tr>\n",
       "    <tr>\n",
       "      <th>2443</th>\n",
       "      <td>1</td>\n",
       "    </tr>\n",
       "  </tbody>\n",
       "</table>\n",
       "</div>"
      ],
      "text/plain": [
       "      color\n",
       "5316      1\n",
       "5210      1\n",
       "3518      1\n",
       "1622      1\n",
       "2443      1"
      ]
     },
     "execution_count": 19,
     "metadata": {},
     "output_type": "execute_result"
    }
   ],
   "source": [
    "X_test_cat_transformed = X_test_cat.copy()\n",
    "for i in X_train_cat.columns:\n",
    "    X_test_cat_transformed[i] = label_encoder.transform(X_test_cat[i])\n",
    "\n",
    "X_test_cat_transformed.head()\n"
   ]
  },
  {
   "cell_type": "markdown",
   "id": "7f7dc626",
   "metadata": {},
   "source": [
    "### Concatenate X_test_num_transformed and X_test_cat_transformed"
   ]
  },
  {
   "cell_type": "code",
   "execution_count": 20,
   "id": "cb18704f",
   "metadata": {},
   "outputs": [
    {
     "data": {
      "text/html": [
       "<div>\n",
       "<style scoped>\n",
       "    .dataframe tbody tr th:only-of-type {\n",
       "        vertical-align: middle;\n",
       "    }\n",
       "\n",
       "    .dataframe tbody tr th {\n",
       "        vertical-align: top;\n",
       "    }\n",
       "\n",
       "    .dataframe thead th {\n",
       "        text-align: right;\n",
       "    }\n",
       "</style>\n",
       "<table border=\"1\" class=\"dataframe\">\n",
       "  <thead>\n",
       "    <tr style=\"text-align: right;\">\n",
       "      <th></th>\n",
       "      <th>fixed acidity</th>\n",
       "      <th>volatile acidity</th>\n",
       "      <th>citric acid</th>\n",
       "      <th>residual sugar</th>\n",
       "      <th>chlorides</th>\n",
       "      <th>free sulfur dioxide</th>\n",
       "      <th>total sulfur dioxide</th>\n",
       "      <th>density</th>\n",
       "      <th>pH</th>\n",
       "      <th>sulphates</th>\n",
       "      <th>alcohol</th>\n",
       "      <th>good</th>\n",
       "      <th>color</th>\n",
       "    </tr>\n",
       "  </thead>\n",
       "  <tbody>\n",
       "    <tr>\n",
       "      <th>5316</th>\n",
       "      <td>-0.707899</td>\n",
       "      <td>-0.969882</td>\n",
       "      <td>-0.544617</td>\n",
       "      <td>-0.424008</td>\n",
       "      <td>-0.090367</td>\n",
       "      <td>-0.585862</td>\n",
       "      <td>0.056338</td>\n",
       "      <td>-0.318720</td>\n",
       "      <td>-0.667126</td>\n",
       "      <td>-0.081008</td>\n",
       "      <td>-1.089293</td>\n",
       "      <td>-0.493127</td>\n",
       "      <td>1</td>\n",
       "    </tr>\n",
       "    <tr>\n",
       "      <th>5210</th>\n",
       "      <td>-0.320475</td>\n",
       "      <td>-1.211564</td>\n",
       "      <td>-0.956963</td>\n",
       "      <td>-0.854998</td>\n",
       "      <td>-0.259323</td>\n",
       "      <td>-0.028764</td>\n",
       "      <td>-0.455466</td>\n",
       "      <td>-1.031880</td>\n",
       "      <td>0.328715</td>\n",
       "      <td>0.051610</td>\n",
       "      <td>0.593095</td>\n",
       "      <td>-0.493127</td>\n",
       "      <td>1</td>\n",
       "    </tr>\n",
       "    <tr>\n",
       "      <th>3518</th>\n",
       "      <td>0.066948</td>\n",
       "      <td>-0.728201</td>\n",
       "      <td>1.242214</td>\n",
       "      <td>1.795591</td>\n",
       "      <td>-0.203004</td>\n",
       "      <td>1.419691</td>\n",
       "      <td>1.291725</td>\n",
       "      <td>1.616023</td>\n",
       "      <td>0.141995</td>\n",
       "      <td>0.847315</td>\n",
       "      <td>-1.257531</td>\n",
       "      <td>-0.493127</td>\n",
       "      <td>1</td>\n",
       "    </tr>\n",
       "    <tr>\n",
       "      <th>1622</th>\n",
       "      <td>0.299402</td>\n",
       "      <td>1.990716</td>\n",
       "      <td>-1.231860</td>\n",
       "      <td>-0.833449</td>\n",
       "      <td>0.500976</td>\n",
       "      <td>-0.307313</td>\n",
       "      <td>0.921109</td>\n",
       "      <td>-0.328957</td>\n",
       "      <td>-1.040567</td>\n",
       "      <td>-0.147317</td>\n",
       "      <td>-1.005173</td>\n",
       "      <td>-0.493127</td>\n",
       "      <td>1</td>\n",
       "    </tr>\n",
       "    <tr>\n",
       "      <th>2443</th>\n",
       "      <td>0.066948</td>\n",
       "      <td>-0.788621</td>\n",
       "      <td>-0.200996</td>\n",
       "      <td>-0.811899</td>\n",
       "      <td>-0.625393</td>\n",
       "      <td>-0.084474</td>\n",
       "      <td>0.038689</td>\n",
       "      <td>-1.011406</td>\n",
       "      <td>0.515435</td>\n",
       "      <td>-0.213625</td>\n",
       "      <td>0.424856</td>\n",
       "      <td>2.027875</td>\n",
       "      <td>1</td>\n",
       "    </tr>\n",
       "  </tbody>\n",
       "</table>\n",
       "</div>"
      ],
      "text/plain": [
       "      fixed acidity  volatile acidity  citric acid  residual sugar  chlorides  \\\n",
       "5316      -0.707899         -0.969882    -0.544617       -0.424008  -0.090367   \n",
       "5210      -0.320475         -1.211564    -0.956963       -0.854998  -0.259323   \n",
       "3518       0.066948         -0.728201     1.242214        1.795591  -0.203004   \n",
       "1622       0.299402          1.990716    -1.231860       -0.833449   0.500976   \n",
       "2443       0.066948         -0.788621    -0.200996       -0.811899  -0.625393   \n",
       "\n",
       "      free sulfur dioxide  total sulfur dioxide   density        pH  \\\n",
       "5316            -0.585862              0.056338 -0.318720 -0.667126   \n",
       "5210            -0.028764             -0.455466 -1.031880  0.328715   \n",
       "3518             1.419691              1.291725  1.616023  0.141995   \n",
       "1622            -0.307313              0.921109 -0.328957 -1.040567   \n",
       "2443            -0.084474              0.038689 -1.011406  0.515435   \n",
       "\n",
       "      sulphates   alcohol      good  color  \n",
       "5316  -0.081008 -1.089293 -0.493127      1  \n",
       "5210   0.051610  0.593095 -0.493127      1  \n",
       "3518   0.847315 -1.257531 -0.493127      1  \n",
       "1622  -0.147317 -1.005173 -0.493127      1  \n",
       "2443  -0.213625  0.424856  2.027875      1  "
      ]
     },
     "execution_count": 20,
     "metadata": {},
     "output_type": "execute_result"
    }
   ],
   "source": [
    "X_test_transformed = pd.concat([X_test_num_transformed, X_test_cat_transformed], axis=1)\n",
    "\n",
    "X_test_transformed.head()\n"
   ]
  },
  {
   "cell_type": "markdown",
   "id": "f1162d6c",
   "metadata": {},
   "source": [
    "### Model Training and Testing Phase"
   ]
  },
  {
   "cell_type": "markdown",
   "id": "a4b119fc",
   "metadata": {},
   "source": [
    "### Using KNN classifier"
   ]
  },
  {
   "cell_type": "code",
   "execution_count": 21,
   "id": "0dd11c7b",
   "metadata": {},
   "outputs": [
    {
     "name": "stdout",
     "output_type": "stream",
     "text": [
      "Accuracy Score 0.676923076923077\n",
      "CPU times: total: 15.6 ms\n",
      "Wall time: 557 ms\n"
     ]
    }
   ],
   "source": [
    "%%time\n",
    "from sklearn.neighbors import KNeighborsClassifier\n",
    "from sklearn import metrics\n",
    "\n",
    "classifier = KNeighborsClassifier()\n",
    "classifier.fit(X_train_transformed, y_train)\n",
    "\n",
    "y_test_pred = classifier.predict(X_test_transformed)\n",
    "\n",
    "print('Accuracy Score',metrics.accuracy_score(y_test, y_test_pred))\n"
   ]
  },
  {
   "cell_type": "code",
   "execution_count": 49,
   "id": "8a86f099",
   "metadata": {},
   "outputs": [
    {
     "name": "stdout",
     "output_type": "stream",
     "text": [
      "Accuracy: 0.676923076923077\n",
      "Training time: 0.02 seconds\n",
      "Testing time: 0.34 seconds\n"
     ]
    }
   ],
   "source": [
    "import time\n",
    "from sklearn.neighbors import KNeighborsClassifier\n",
    "from sklearn import metrics\n",
    "import matplotlib.pyplot as plt\n",
    "\n",
    "# Measure training time\n",
    "train_start_time = time.time()\n",
    "classifier = KNeighborsClassifier()\n",
    "classifier.fit(X_train_transformed, y_train)\n",
    "train_end_time = time.time()\n",
    "\n",
    "# Measure testing time\n",
    "test_start_time = time.time()\n",
    "y_test_pred = classifier.predict(X_test_transformed)\n",
    "test_end_time = time.time()\n",
    "\n",
    "# Calculate accuracy\n",
    "accuracy = metrics.accuracy_score(y_test, y_test_pred)\n",
    "\n",
    "# Calculate times\n",
    "training_time = train_end_time - train_start_time\n",
    "testing_time = test_end_time - test_start_time\n",
    "\n",
    "# Print results\n",
    "print(\"Accuracy:\", accuracy)\n",
    "print(\"Training time: {:.2f} seconds\".format(training_time))\n",
    "print(\"Testing time: {:.2f} seconds\".format(testing_time))\n"
   ]
  },
  {
   "cell_type": "code",
   "execution_count": 22,
   "id": "da145ee6",
   "metadata": {},
   "outputs": [],
   "source": [
    "output_df = pd.DataFrame({'Actual': y_test})"
   ]
  },
  {
   "cell_type": "code",
   "execution_count": 23,
   "id": "9bf7cb2d",
   "metadata": {},
   "outputs": [
    {
     "data": {
      "text/html": [
       "<div>\n",
       "<style scoped>\n",
       "    .dataframe tbody tr th:only-of-type {\n",
       "        vertical-align: middle;\n",
       "    }\n",
       "\n",
       "    .dataframe tbody tr th {\n",
       "        vertical-align: top;\n",
       "    }\n",
       "\n",
       "    .dataframe thead th {\n",
       "        text-align: right;\n",
       "    }\n",
       "</style>\n",
       "<table border=\"1\" class=\"dataframe\">\n",
       "  <thead>\n",
       "    <tr style=\"text-align: right;\">\n",
       "      <th></th>\n",
       "      <th>Actual</th>\n",
       "      <th>KNeighborsClassifier Predictions</th>\n",
       "    </tr>\n",
       "  </thead>\n",
       "  <tbody>\n",
       "    <tr>\n",
       "      <th>5316</th>\n",
       "      <td>6</td>\n",
       "      <td>6</td>\n",
       "    </tr>\n",
       "    <tr>\n",
       "      <th>5210</th>\n",
       "      <td>6</td>\n",
       "      <td>6</td>\n",
       "    </tr>\n",
       "    <tr>\n",
       "      <th>3518</th>\n",
       "      <td>6</td>\n",
       "      <td>5</td>\n",
       "    </tr>\n",
       "    <tr>\n",
       "      <th>1622</th>\n",
       "      <td>5</td>\n",
       "      <td>4</td>\n",
       "    </tr>\n",
       "    <tr>\n",
       "      <th>2443</th>\n",
       "      <td>8</td>\n",
       "      <td>7</td>\n",
       "    </tr>\n",
       "    <tr>\n",
       "      <th>...</th>\n",
       "      <td>...</td>\n",
       "      <td>...</td>\n",
       "    </tr>\n",
       "    <tr>\n",
       "      <th>2152</th>\n",
       "      <td>7</td>\n",
       "      <td>7</td>\n",
       "    </tr>\n",
       "    <tr>\n",
       "      <th>4019</th>\n",
       "      <td>7</td>\n",
       "      <td>7</td>\n",
       "    </tr>\n",
       "    <tr>\n",
       "      <th>3732</th>\n",
       "      <td>6</td>\n",
       "      <td>6</td>\n",
       "    </tr>\n",
       "    <tr>\n",
       "      <th>1315</th>\n",
       "      <td>6</td>\n",
       "      <td>5</td>\n",
       "    </tr>\n",
       "    <tr>\n",
       "      <th>5701</th>\n",
       "      <td>5</td>\n",
       "      <td>5</td>\n",
       "    </tr>\n",
       "  </tbody>\n",
       "</table>\n",
       "<p>1625 rows × 2 columns</p>\n",
       "</div>"
      ],
      "text/plain": [
       "      Actual  KNeighborsClassifier Predictions\n",
       "5316       6                                 6\n",
       "5210       6                                 6\n",
       "3518       6                                 5\n",
       "1622       5                                 4\n",
       "2443       8                                 7\n",
       "...      ...                               ...\n",
       "2152       7                                 7\n",
       "4019       7                                 7\n",
       "3732       6                                 6\n",
       "1315       6                                 5\n",
       "5701       5                                 5\n",
       "\n",
       "[1625 rows x 2 columns]"
      ]
     },
     "execution_count": 23,
     "metadata": {},
     "output_type": "execute_result"
    }
   ],
   "source": [
    "output_df['KNeighborsClassifier Predictions'] = y_test_pred\n",
    "\n",
    "output_df"
   ]
  },
  {
   "cell_type": "code",
   "execution_count": 24,
   "id": "260f251d",
   "metadata": {},
   "outputs": [
    {
     "name": "stderr",
     "output_type": "stream",
     "text": [
      "C:\\Users\\routj\\AppData\\Local\\Temp\\ipykernel_8172\\3727757528.py:2: UserWarning: Ignoring `palette` because no `hue` variable has been assigned.\n",
      "  sns.histplot(output_df['Actual'],palette='pastel',label=\"actual\")\n",
      "C:\\Users\\routj\\AppData\\Local\\Temp\\ipykernel_8172\\3727757528.py:3: UserWarning: Ignoring `palette` because no `hue` variable has been assigned.\n",
      "  sns.histplot(output_df['KNeighborsClassifier Predictions'],palette='pastel',label=\"prediction\", binwidth=0.1, shrink=0.8)\n"
     ]
    },
    {
     "data": {
      "text/plain": [
       "<matplotlib.legend.Legend at 0x1bb8084bac0>"
      ]
     },
     "execution_count": 24,
     "metadata": {},
     "output_type": "execute_result"
    },
    {
     "data": {
      "image/png": "[encoded data removed]",
      "text/plain": [
       "<Figure size 800x300 with 1 Axes>"
      ]
     },
     "metadata": {},
     "output_type": "display_data"
    }
   ],
   "source": [
    "fig, (ax1) = plt.subplots(1, figsize=(8, 3))\n",
    "sns.histplot(output_df['Actual'],palette='pastel',label=\"actual\")\n",
    "sns.histplot(output_df['KNeighborsClassifier Predictions'],palette='pastel',label=\"prediction\", binwidth=0.1, shrink=0.8)\n",
    "plt.xlabel('quality')\n",
    "plt.ylabel('No of Customers')\n",
    "plt.title('K-Nearest Neighbour Classifier')\n",
    "plt.xticks([0, 1])  \n",
    "plt.legend()"
   ]
  },
  {
   "cell_type": "markdown",
   "id": "daf386be",
   "metadata": {},
   "source": [
    "### Using Logistics Regression"
   ]
  },
  {
   "cell_type": "code",
   "execution_count": 25,
   "id": "04c8f896",
   "metadata": {},
   "outputs": [
    {
     "name": "stdout",
     "output_type": "stream",
     "text": [
      "Accuracy Score 0.6793846153846154\n",
      "CPU times: total: 250 ms\n",
      "Wall time: 205 ms\n"
     ]
    },
    {
     "name": "stderr",
     "output_type": "stream",
     "text": [
      "C:\\Users\\routj\\AppData\\Roaming\\Python\\Python310\\site-packages\\sklearn\\linear_model\\_logistic.py:469: ConvergenceWarning: lbfgs failed to converge (status=1):\n",
      "STOP: TOTAL NO. of ITERATIONS REACHED LIMIT.\n",
      "\n",
      "Increase the number of iterations (max_iter) or scale the data as shown in:\n",
      "    https://scikit-learn.org/stable/modules/preprocessing.html\n",
      "Please also refer to the documentation for alternative solver options:\n",
      "    https://scikit-learn.org/stable/modules/linear_model.html#logistic-regression\n",
      "  n_iter_i = _check_optimize_result(\n"
     ]
    }
   ],
   "source": [
    "%%time\n",
    "from sklearn.linear_model import LogisticRegression\n",
    "from sklearn import metrics\n",
    "\n",
    "classifier = LogisticRegression()\n",
    "classifier.fit(X_train_transformed, y_train)\n",
    "\n",
    "y_test_pred = classifier.predict(X_test_transformed)\n",
    "\n",
    "print('Accuracy Score',metrics.accuracy_score(y_test, y_test_pred))\n"
   ]
  },
  {
   "cell_type": "code",
   "execution_count": 48,
   "id": "392b20c2",
   "metadata": {},
   "outputs": [
    {
     "name": "stdout",
     "output_type": "stream",
     "text": [
      "Accuracy: 0.6793846153846154\n",
      "Training time: 0.31 seconds\n",
      "Testing time: 0.00 seconds\n"
     ]
    },
    {
     "name": "stderr",
     "output_type": "stream",
     "text": [
      "C:\\Users\\routj\\AppData\\Roaming\\Python\\Python310\\site-packages\\sklearn\\linear_model\\_logistic.py:469: ConvergenceWarning: lbfgs failed to converge (status=1):\n",
      "STOP: TOTAL NO. of ITERATIONS REACHED LIMIT.\n",
      "\n",
      "Increase the number of iterations (max_iter) or scale the data as shown in:\n",
      "    https://scikit-learn.org/stable/modules/preprocessing.html\n",
      "Please also refer to the documentation for alternative solver options:\n",
      "    https://scikit-learn.org/stable/modules/linear_model.html#logistic-regression\n",
      "  n_iter_i = _check_optimize_result(\n"
     ]
    }
   ],
   "source": [
    "import time\n",
    "from sklearn.linear_model import LogisticRegression\n",
    "from sklearn import metrics\n",
    "import matplotlib.pyplot as plt\n",
    "\n",
    "# Measure training time\n",
    "train_start_time = time.time()\n",
    "classifier = LogisticRegression()\n",
    "classifier.fit(X_train_transformed, y_train)\n",
    "train_end_time = time.time()\n",
    "\n",
    "# Measure testing time\n",
    "test_start_time = time.time()\n",
    "y_test_pred = classifier.predict(X_test_transformed)\n",
    "test_end_time = time.time()\n",
    "\n",
    "# Calculate accuracy\n",
    "accuracy = metrics.accuracy_score(y_test, y_test_pred)\n",
    "\n",
    "# Calculate times\n",
    "training_time = train_end_time - train_start_time\n",
    "testing_time = test_end_time - test_start_time\n",
    "\n",
    "# Print results\n",
    "print(\"Accuracy:\", accuracy)\n",
    "print(\"Training time: {:.2f} seconds\".format(training_time))\n",
    "print(\"Testing time: {:.2f} seconds\".format(testing_time))\n"
   ]
  },
  {
   "cell_type": "code",
   "execution_count": 26,
   "id": "7c16b173",
   "metadata": {},
   "outputs": [],
   "source": [
    "output_df = pd.DataFrame({'Actual': y_test})"
   ]
  },
  {
   "cell_type": "code",
   "execution_count": 27,
   "id": "e0867364",
   "metadata": {},
   "outputs": [
    {
     "data": {
      "text/html": [
       "<div>\n",
       "<style scoped>\n",
       "    .dataframe tbody tr th:only-of-type {\n",
       "        vertical-align: middle;\n",
       "    }\n",
       "\n",
       "    .dataframe tbody tr th {\n",
       "        vertical-align: top;\n",
       "    }\n",
       "\n",
       "    .dataframe thead th {\n",
       "        text-align: right;\n",
       "    }\n",
       "</style>\n",
       "<table border=\"1\" class=\"dataframe\">\n",
       "  <thead>\n",
       "    <tr style=\"text-align: right;\">\n",
       "      <th></th>\n",
       "      <th>Actual</th>\n",
       "      <th>LogisticRegression Predictions</th>\n",
       "    </tr>\n",
       "  </thead>\n",
       "  <tbody>\n",
       "    <tr>\n",
       "      <th>5316</th>\n",
       "      <td>6</td>\n",
       "      <td>5</td>\n",
       "    </tr>\n",
       "    <tr>\n",
       "      <th>5210</th>\n",
       "      <td>6</td>\n",
       "      <td>6</td>\n",
       "    </tr>\n",
       "    <tr>\n",
       "      <th>3518</th>\n",
       "      <td>6</td>\n",
       "      <td>6</td>\n",
       "    </tr>\n",
       "    <tr>\n",
       "      <th>1622</th>\n",
       "      <td>5</td>\n",
       "      <td>5</td>\n",
       "    </tr>\n",
       "    <tr>\n",
       "      <th>2443</th>\n",
       "      <td>8</td>\n",
       "      <td>7</td>\n",
       "    </tr>\n",
       "    <tr>\n",
       "      <th>...</th>\n",
       "      <td>...</td>\n",
       "      <td>...</td>\n",
       "    </tr>\n",
       "    <tr>\n",
       "      <th>2152</th>\n",
       "      <td>7</td>\n",
       "      <td>7</td>\n",
       "    </tr>\n",
       "    <tr>\n",
       "      <th>4019</th>\n",
       "      <td>7</td>\n",
       "      <td>7</td>\n",
       "    </tr>\n",
       "    <tr>\n",
       "      <th>3732</th>\n",
       "      <td>6</td>\n",
       "      <td>6</td>\n",
       "    </tr>\n",
       "    <tr>\n",
       "      <th>1315</th>\n",
       "      <td>6</td>\n",
       "      <td>5</td>\n",
       "    </tr>\n",
       "    <tr>\n",
       "      <th>5701</th>\n",
       "      <td>5</td>\n",
       "      <td>6</td>\n",
       "    </tr>\n",
       "  </tbody>\n",
       "</table>\n",
       "<p>1625 rows × 2 columns</p>\n",
       "</div>"
      ],
      "text/plain": [
       "      Actual  LogisticRegression Predictions\n",
       "5316       6                               5\n",
       "5210       6                               6\n",
       "3518       6                               6\n",
       "1622       5                               5\n",
       "2443       8                               7\n",
       "...      ...                             ...\n",
       "2152       7                               7\n",
       "4019       7                               7\n",
       "3732       6                               6\n",
       "1315       6                               5\n",
       "5701       5                               6\n",
       "\n",
       "[1625 rows x 2 columns]"
      ]
     },
     "execution_count": 27,
     "metadata": {},
     "output_type": "execute_result"
    }
   ],
   "source": [
    "output_df['LogisticRegression Predictions'] = y_test_pred\n",
    "\n",
    "output_df"
   ]
  },
  {
   "cell_type": "code",
   "execution_count": 28,
   "id": "9f734c03",
   "metadata": {},
   "outputs": [
    {
     "name": "stderr",
     "output_type": "stream",
     "text": [
      "C:\\Users\\routj\\AppData\\Local\\Temp\\ipykernel_8172\\1768253725.py:2: UserWarning: Ignoring `palette` because no `hue` variable has been assigned.\n",
      "  sns.histplot(output_df['Actual'],palette='pastel',label=\"actual\")\n",
      "C:\\Users\\routj\\AppData\\Local\\Temp\\ipykernel_8172\\1768253725.py:3: UserWarning: Ignoring `palette` because no `hue` variable has been assigned.\n",
      "  sns.histplot(output_df['LogisticRegression Predictions'],palette='pastel',label=\"prediction\", binwidth=0.1, shrink=0.8)\n"
     ]
    },
    {
     "data": {
      "text/plain": [
       "<matplotlib.legend.Legend at 0x1bb8192bbe0>"
      ]
     },
     "execution_count": 28,
     "metadata": {},
     "output_type": "execute_result"
    },
    {
     "data": {
      "image/png": "[encoded data removed]",
      "text/plain": [
       "<Figure size 800x300 with 1 Axes>"
      ]
     },
     "metadata": {},
     "output_type": "display_data"
    }
   ],
   "source": [
    "fig, (ax1) = plt.subplots(1, figsize=(8, 3))\n",
    "sns.histplot(output_df['Actual'],palette='pastel',label=\"actual\")\n",
    "sns.histplot(output_df['LogisticRegression Predictions'],palette='pastel',label=\"prediction\", binwidth=0.1, shrink=0.8)\n",
    "plt.xlabel('quality')\n",
    "plt.ylabel('No of Customers')\n",
    "plt.title('Logistic Regression')\n",
    "plt.xticks([0, 1])  \n",
    "plt.legend()"
   ]
  },
  {
   "cell_type": "code",
   "execution_count": null,
   "id": "2c939d03",
   "metadata": {},
   "outputs": [],
   "source": []
  },
  {
   "cell_type": "markdown",
   "id": "f9e9745d",
   "metadata": {},
   "source": [
    "### Using support vector machine"
   ]
  },
  {
   "cell_type": "code",
   "execution_count": 29,
   "id": "1f6f3c98",
   "metadata": {},
   "outputs": [
    {
     "name": "stdout",
     "output_type": "stream",
     "text": [
      "Accuracy Score 0.676923076923077\n",
      "CPU times: total: 1.45 s\n",
      "Wall time: 2.51 s\n"
     ]
    }
   ],
   "source": [
    "%%time\n",
    "from sklearn import svm\n",
    "\n",
    "SVM = svm.SVC(kernel='linear')\n",
    "\n",
    "# Training the model\n",
    "SVM.fit(X_train_transformed, y_train)\n",
    "\n",
    "# Prediction on unseen data\n",
    "y_test_pred = SVM.predict(X_test_transformed)\n",
    "\n",
    "# Evaluation\n",
    "print('Accuracy Score',metrics.accuracy_score(y_test, y_test_pred))\n"
   ]
  },
  {
   "cell_type": "code",
   "execution_count": 47,
   "id": "e0962d69",
   "metadata": {},
   "outputs": [
    {
     "name": "stdout",
     "output_type": "stream",
     "text": [
      "Accuracy: 0.676923076923077\n",
      "Training time: 1.95 seconds\n",
      "Testing time: 0.47 seconds\n"
     ]
    }
   ],
   "source": [
    "import time\n",
    "from sklearn import svm\n",
    "\n",
    "from sklearn import metrics\n",
    "import matplotlib.pyplot as plt\n",
    "\n",
    "# Measure training time\n",
    "train_start_time = time.time()\n",
    "\n",
    "SVM = svm.SVC(kernel='linear')\n",
    "\n",
    "SVM.fit(X_train_transformed, y_train)\n",
    "train_end_time = time.time()\n",
    "\n",
    "# Measure testing time\n",
    "test_start_time = time.time()\n",
    "y_test_pred = SVM.predict(X_test_transformed)\n",
    "test_end_time = time.time()\n",
    "\n",
    "# Calculate accuracy\n",
    "accuracy = metrics.accuracy_score(y_test, y_test_pred)\n",
    "\n",
    "# Calculate times\n",
    "training_time = train_end_time - train_start_time\n",
    "testing_time = test_end_time - test_start_time\n",
    "\n",
    "# Print results\n",
    "print(\"Accuracy:\", accuracy)\n",
    "print(\"Training time: {:.2f} seconds\".format(training_time))\n",
    "print(\"Testing time: {:.2f} seconds\".format(testing_time))\n",
    "\n"
   ]
  },
  {
   "cell_type": "code",
   "execution_count": 30,
   "id": "c93bb139",
   "metadata": {},
   "outputs": [],
   "source": [
    "output_df = pd.DataFrame({'Actual': y_test})"
   ]
  },
  {
   "cell_type": "code",
   "execution_count": 31,
   "id": "04dc92ca",
   "metadata": {},
   "outputs": [
    {
     "data": {
      "text/html": [
       "<div>\n",
       "<style scoped>\n",
       "    .dataframe tbody tr th:only-of-type {\n",
       "        vertical-align: middle;\n",
       "    }\n",
       "\n",
       "    .dataframe tbody tr th {\n",
       "        vertical-align: top;\n",
       "    }\n",
       "\n",
       "    .dataframe thead th {\n",
       "        text-align: right;\n",
       "    }\n",
       "</style>\n",
       "<table border=\"1\" class=\"dataframe\">\n",
       "  <thead>\n",
       "    <tr style=\"text-align: right;\">\n",
       "      <th></th>\n",
       "      <th>Actual</th>\n",
       "      <th>svm Predictions</th>\n",
       "    </tr>\n",
       "  </thead>\n",
       "  <tbody>\n",
       "    <tr>\n",
       "      <th>5316</th>\n",
       "      <td>6</td>\n",
       "      <td>5</td>\n",
       "    </tr>\n",
       "    <tr>\n",
       "      <th>5210</th>\n",
       "      <td>6</td>\n",
       "      <td>6</td>\n",
       "    </tr>\n",
       "    <tr>\n",
       "      <th>3518</th>\n",
       "      <td>6</td>\n",
       "      <td>6</td>\n",
       "    </tr>\n",
       "    <tr>\n",
       "      <th>1622</th>\n",
       "      <td>5</td>\n",
       "      <td>5</td>\n",
       "    </tr>\n",
       "    <tr>\n",
       "      <th>2443</th>\n",
       "      <td>8</td>\n",
       "      <td>7</td>\n",
       "    </tr>\n",
       "    <tr>\n",
       "      <th>...</th>\n",
       "      <td>...</td>\n",
       "      <td>...</td>\n",
       "    </tr>\n",
       "    <tr>\n",
       "      <th>2152</th>\n",
       "      <td>7</td>\n",
       "      <td>7</td>\n",
       "    </tr>\n",
       "    <tr>\n",
       "      <th>4019</th>\n",
       "      <td>7</td>\n",
       "      <td>7</td>\n",
       "    </tr>\n",
       "    <tr>\n",
       "      <th>3732</th>\n",
       "      <td>6</td>\n",
       "      <td>6</td>\n",
       "    </tr>\n",
       "    <tr>\n",
       "      <th>1315</th>\n",
       "      <td>6</td>\n",
       "      <td>5</td>\n",
       "    </tr>\n",
       "    <tr>\n",
       "      <th>5701</th>\n",
       "      <td>5</td>\n",
       "      <td>6</td>\n",
       "    </tr>\n",
       "  </tbody>\n",
       "</table>\n",
       "<p>1625 rows × 2 columns</p>\n",
       "</div>"
      ],
      "text/plain": [
       "      Actual  svm Predictions\n",
       "5316       6                5\n",
       "5210       6                6\n",
       "3518       6                6\n",
       "1622       5                5\n",
       "2443       8                7\n",
       "...      ...              ...\n",
       "2152       7                7\n",
       "4019       7                7\n",
       "3732       6                6\n",
       "1315       6                5\n",
       "5701       5                6\n",
       "\n",
       "[1625 rows x 2 columns]"
      ]
     },
     "execution_count": 31,
     "metadata": {},
     "output_type": "execute_result"
    }
   ],
   "source": [
    "output_df['svm Predictions'] = y_test_pred\n",
    "\n",
    "output_df"
   ]
  },
  {
   "cell_type": "code",
   "execution_count": 32,
   "id": "be516d05",
   "metadata": {},
   "outputs": [
    {
     "name": "stderr",
     "output_type": "stream",
     "text": [
      "C:\\Users\\routj\\AppData\\Local\\Temp\\ipykernel_8172\\1280483405.py:2: UserWarning: Ignoring `palette` because no `hue` variable has been assigned.\n",
      "  sns.histplot(output_df['Actual'],palette='pastel',label=\"actual\")\n",
      "C:\\Users\\routj\\AppData\\Local\\Temp\\ipykernel_8172\\1280483405.py:3: UserWarning: Ignoring `palette` because no `hue` variable has been assigned.\n",
      "  sns.histplot(output_df['svm Predictions'],palette='pastel',label=\"prediction\", binwidth=0.1, shrink=0.8)\n"
     ]
    },
    {
     "data": {
      "text/plain": [
       "<matplotlib.legend.Legend at 0x1bb82a55fc0>"
      ]
     },
     "execution_count": 32,
     "metadata": {},
     "output_type": "execute_result"
    },
    {
     "data": {
      "image/png": "[encoded data removed]",
      "text/plain": [
       "<Figure size 800x300 with 1 Axes>"
      ]
     },
     "metadata": {},
     "output_type": "display_data"
    }
   ],
   "source": [
    "fig, (ax1) = plt.subplots(1, figsize=(8, 3))\n",
    "sns.histplot(output_df['Actual'],palette='pastel',label=\"actual\")\n",
    "sns.histplot(output_df['svm Predictions'],palette='pastel',label=\"prediction\", binwidth=0.1, shrink=0.8)\n",
    "plt.xlabel('quality')\n",
    "plt.ylabel('No of Customers')\n",
    "plt.title('SVM Classifier')\n",
    "plt.xticks([0, 1])  \n",
    "plt.legend()"
   ]
  },
  {
   "cell_type": "markdown",
   "id": "f5980f59",
   "metadata": {},
   "source": [
    "### Using DecisionTree "
   ]
  },
  {
   "cell_type": "code",
   "execution_count": 33,
   "id": "a33c69b4",
   "metadata": {},
   "outputs": [
    {
     "name": "stdout",
     "output_type": "stream",
     "text": [
      "Accuracy Score 0.7249230769230769\n",
      "CPU times: total: 93.8 ms\n",
      "Wall time: 309 ms\n"
     ]
    }
   ],
   "source": [
    "%%time\n",
    "# Import the Algorithm\n",
    "from sklearn.tree import DecisionTreeClassifier\n",
    "\n",
    "# Create the object\n",
    "classifier = DecisionTreeClassifier()\n",
    "\n",
    "# Training the model\n",
    "classifier.fit(X_train_transformed, y_train)\n",
    "\n",
    "# Prediction on unseen data\n",
    "y_test_pred = classifier.predict(X_test_transformed)\n",
    "\n",
    "# Evaluation\n",
    "print('Accuracy Score',metrics.accuracy_score(y_test, y_test_pred))\n"
   ]
  },
  {
   "cell_type": "code",
   "execution_count": 34,
   "id": "bbde38b2",
   "metadata": {},
   "outputs": [],
   "source": [
    "output_df = pd.DataFrame({'Actual': y_test})"
   ]
  },
  {
   "cell_type": "code",
   "execution_count": 35,
   "id": "1169a5e7",
   "metadata": {},
   "outputs": [
    {
     "data": {
      "text/html": [
       "<div>\n",
       "<style scoped>\n",
       "    .dataframe tbody tr th:only-of-type {\n",
       "        vertical-align: middle;\n",
       "    }\n",
       "\n",
       "    .dataframe tbody tr th {\n",
       "        vertical-align: top;\n",
       "    }\n",
       "\n",
       "    .dataframe thead th {\n",
       "        text-align: right;\n",
       "    }\n",
       "</style>\n",
       "<table border=\"1\" class=\"dataframe\">\n",
       "  <thead>\n",
       "    <tr style=\"text-align: right;\">\n",
       "      <th></th>\n",
       "      <th>Actual</th>\n",
       "      <th>DecisionTreeClassifier Predictions</th>\n",
       "    </tr>\n",
       "  </thead>\n",
       "  <tbody>\n",
       "    <tr>\n",
       "      <th>5316</th>\n",
       "      <td>6</td>\n",
       "      <td>6</td>\n",
       "    </tr>\n",
       "    <tr>\n",
       "      <th>5210</th>\n",
       "      <td>6</td>\n",
       "      <td>6</td>\n",
       "    </tr>\n",
       "    <tr>\n",
       "      <th>3518</th>\n",
       "      <td>6</td>\n",
       "      <td>6</td>\n",
       "    </tr>\n",
       "    <tr>\n",
       "      <th>1622</th>\n",
       "      <td>5</td>\n",
       "      <td>6</td>\n",
       "    </tr>\n",
       "    <tr>\n",
       "      <th>2443</th>\n",
       "      <td>8</td>\n",
       "      <td>8</td>\n",
       "    </tr>\n",
       "    <tr>\n",
       "      <th>...</th>\n",
       "      <td>...</td>\n",
       "      <td>...</td>\n",
       "    </tr>\n",
       "    <tr>\n",
       "      <th>2152</th>\n",
       "      <td>7</td>\n",
       "      <td>7</td>\n",
       "    </tr>\n",
       "    <tr>\n",
       "      <th>4019</th>\n",
       "      <td>7</td>\n",
       "      <td>7</td>\n",
       "    </tr>\n",
       "    <tr>\n",
       "      <th>3732</th>\n",
       "      <td>6</td>\n",
       "      <td>6</td>\n",
       "    </tr>\n",
       "    <tr>\n",
       "      <th>1315</th>\n",
       "      <td>6</td>\n",
       "      <td>6</td>\n",
       "    </tr>\n",
       "    <tr>\n",
       "      <th>5701</th>\n",
       "      <td>5</td>\n",
       "      <td>5</td>\n",
       "    </tr>\n",
       "  </tbody>\n",
       "</table>\n",
       "<p>1625 rows × 2 columns</p>\n",
       "</div>"
      ],
      "text/plain": [
       "      Actual  DecisionTreeClassifier Predictions\n",
       "5316       6                                   6\n",
       "5210       6                                   6\n",
       "3518       6                                   6\n",
       "1622       5                                   6\n",
       "2443       8                                   8\n",
       "...      ...                                 ...\n",
       "2152       7                                   7\n",
       "4019       7                                   7\n",
       "3732       6                                   6\n",
       "1315       6                                   6\n",
       "5701       5                                   5\n",
       "\n",
       "[1625 rows x 2 columns]"
      ]
     },
     "execution_count": 35,
     "metadata": {},
     "output_type": "execute_result"
    }
   ],
   "source": [
    "output_df['DecisionTreeClassifier Predictions'] = y_test_pred\n",
    "\n",
    "output_df"
   ]
  },
  {
   "cell_type": "code",
   "execution_count": 45,
   "id": "e3c02b7e",
   "metadata": {},
   "outputs": [
    {
     "name": "stdout",
     "output_type": "stream",
     "text": [
      "Accuracy: 0.7193846153846154\n",
      "Training time: 0.13 seconds\n",
      "Testing time: 0.00 seconds\n"
     ]
    }
   ],
   "source": [
    "import time\n",
    "from sklearn.tree import DecisionTreeClassifier\n",
    "from sklearn import metrics\n",
    "import matplotlib.pyplot as plt\n",
    "\n",
    "# Measure training time\n",
    "train_start_time = time.time()\n",
    "classifier = DecisionTreeClassifier()\n",
    "classifier.fit(X_train_transformed, y_train)\n",
    "train_end_time = time.time()\n",
    "\n",
    "# Measure testing time\n",
    "test_start_time = time.time()\n",
    "y_test_pred = classifier.predict(X_test_transformed)\n",
    "test_end_time = time.time()\n",
    "\n",
    "# Calculate accuracy\n",
    "accuracy = metrics.accuracy_score(y_test, y_test_pred)\n",
    "\n",
    "# Calculate times\n",
    "training_time = train_end_time - train_start_time\n",
    "testing_time = test_end_time - test_start_time\n",
    "\n",
    "# Print results\n",
    "print(\"Accuracy:\", accuracy)\n",
    "print(\"Training time: {:.2f} seconds\".format(training_time))\n",
    "print(\"Testing time: {:.2f} seconds\".format(testing_time))\n",
    "\n"
   ]
  },
  {
   "cell_type": "code",
   "execution_count": null,
   "id": "b213c610",
   "metadata": {},
   "outputs": [],
   "source": []
  },
  {
   "cell_type": "code",
   "execution_count": null,
   "id": "a7d0ddf4",
   "metadata": {},
   "outputs": [],
   "source": []
  },
  {
   "cell_type": "markdown",
   "id": "9109770c",
   "metadata": {},
   "source": [
    "### Using RandomForest"
   ]
  },
  {
   "cell_type": "code",
   "execution_count": 36,
   "id": "8f4dd625",
   "metadata": {},
   "outputs": [
    {
     "name": "stdout",
     "output_type": "stream",
     "text": [
      "Accuracy Score 0.7753846153846153\n",
      "CPU times: total: 2.03 s\n",
      "Wall time: 2.9 s\n"
     ]
    }
   ],
   "source": [
    "%%time\n",
    "# Import the Algorithm\n",
    "from sklearn.ensemble import RandomForestClassifier\n",
    "from sklearn import metrics\n",
    "\n",
    "# Create the object\n",
    "classifier = RandomForestClassifier()\n",
    "\n",
    "# Training the model\n",
    "classifier.fit(X_train_transformed, y_train)\n",
    "\n",
    "# Prediction on unseen data\n",
    "y_test_pred = classifier.predict(X_test_transformed)\n",
    "\n",
    "# Evaluation\n",
    "print('Accuracy Score',metrics.accuracy_score(y_test, y_test_pred))\n"
   ]
  },
  {
   "cell_type": "code",
   "execution_count": 50,
   "id": "863b0dd7",
   "metadata": {},
   "outputs": [
    {
     "name": "stdout",
     "output_type": "stream",
     "text": [
      "Accuracy: 0.7735384615384615\n",
      "Training time: 2.48 seconds\n",
      "Testing time: 0.08 seconds\n"
     ]
    }
   ],
   "source": [
    "import time\n",
    "from sklearn.ensemble import RandomForestClassifier\n",
    "from sklearn import metrics\n",
    "import matplotlib.pyplot as plt\n",
    "\n",
    "# Measure training time\n",
    "train_start_time = time.time()\n",
    "classifier = RandomForestClassifier()\n",
    "classifier.fit(X_train_transformed, y_train)\n",
    "train_end_time = time.time()\n",
    "\n",
    "# Measure testing time\n",
    "test_start_time = time.time()\n",
    "y_test_pred = classifier.predict(X_test_transformed)\n",
    "test_end_time = time.time()\n",
    "\n",
    "# Calculate accuracy\n",
    "accuracy = metrics.accuracy_score(y_test, y_test_pred)\n",
    "\n",
    "# Calculate times\n",
    "training_time = train_end_time - train_start_time\n",
    "testing_time = test_end_time - test_start_time\n",
    "\n",
    "# Print results\n",
    "print(\"Accuracy:\", accuracy)\n",
    "print(\"Training time: {:.2f} seconds\".format(training_time))\n",
    "print(\"Testing time: {:.2f} seconds\".format(testing_time))\n"
   ]
  },
  {
   "cell_type": "code",
   "execution_count": 37,
   "id": "f5cf17ce",
   "metadata": {},
   "outputs": [],
   "source": [
    "output_df = pd.DataFrame({'Actual': y_test})"
   ]
  },
  {
   "cell_type": "code",
   "execution_count": 38,
   "id": "a091d482",
   "metadata": {},
   "outputs": [
    {
     "data": {
      "text/html": [
       "<div>\n",
       "<style scoped>\n",
       "    .dataframe tbody tr th:only-of-type {\n",
       "        vertical-align: middle;\n",
       "    }\n",
       "\n",
       "    .dataframe tbody tr th {\n",
       "        vertical-align: top;\n",
       "    }\n",
       "\n",
       "    .dataframe thead th {\n",
       "        text-align: right;\n",
       "    }\n",
       "</style>\n",
       "<table border=\"1\" class=\"dataframe\">\n",
       "  <thead>\n",
       "    <tr style=\"text-align: right;\">\n",
       "      <th></th>\n",
       "      <th>Actual</th>\n",
       "      <th>RandomForestClassifier Predictions</th>\n",
       "    </tr>\n",
       "  </thead>\n",
       "  <tbody>\n",
       "    <tr>\n",
       "      <th>5316</th>\n",
       "      <td>6</td>\n",
       "      <td>5</td>\n",
       "    </tr>\n",
       "    <tr>\n",
       "      <th>5210</th>\n",
       "      <td>6</td>\n",
       "      <td>6</td>\n",
       "    </tr>\n",
       "    <tr>\n",
       "      <th>3518</th>\n",
       "      <td>6</td>\n",
       "      <td>6</td>\n",
       "    </tr>\n",
       "    <tr>\n",
       "      <th>1622</th>\n",
       "      <td>5</td>\n",
       "      <td>5</td>\n",
       "    </tr>\n",
       "    <tr>\n",
       "      <th>2443</th>\n",
       "      <td>8</td>\n",
       "      <td>8</td>\n",
       "    </tr>\n",
       "    <tr>\n",
       "      <th>...</th>\n",
       "      <td>...</td>\n",
       "      <td>...</td>\n",
       "    </tr>\n",
       "    <tr>\n",
       "      <th>2152</th>\n",
       "      <td>7</td>\n",
       "      <td>7</td>\n",
       "    </tr>\n",
       "    <tr>\n",
       "      <th>4019</th>\n",
       "      <td>7</td>\n",
       "      <td>7</td>\n",
       "    </tr>\n",
       "    <tr>\n",
       "      <th>3732</th>\n",
       "      <td>6</td>\n",
       "      <td>6</td>\n",
       "    </tr>\n",
       "    <tr>\n",
       "      <th>1315</th>\n",
       "      <td>6</td>\n",
       "      <td>6</td>\n",
       "    </tr>\n",
       "    <tr>\n",
       "      <th>5701</th>\n",
       "      <td>5</td>\n",
       "      <td>5</td>\n",
       "    </tr>\n",
       "  </tbody>\n",
       "</table>\n",
       "<p>1625 rows × 2 columns</p>\n",
       "</div>"
      ],
      "text/plain": [
       "      Actual  RandomForestClassifier Predictions\n",
       "5316       6                                   5\n",
       "5210       6                                   6\n",
       "3518       6                                   6\n",
       "1622       5                                   5\n",
       "2443       8                                   8\n",
       "...      ...                                 ...\n",
       "2152       7                                   7\n",
       "4019       7                                   7\n",
       "3732       6                                   6\n",
       "1315       6                                   6\n",
       "5701       5                                   5\n",
       "\n",
       "[1625 rows x 2 columns]"
      ]
     },
     "execution_count": 38,
     "metadata": {},
     "output_type": "execute_result"
    }
   ],
   "source": [
    "output_df['RandomForestClassifier Predictions'] = y_test_pred\n",
    "\n",
    "output_df\n"
   ]
  },
  {
   "cell_type": "code",
   "execution_count": 39,
   "id": "723f8605",
   "metadata": {},
   "outputs": [
    {
     "name": "stderr",
     "output_type": "stream",
     "text": [
      "C:\\Users\\routj\\AppData\\Local\\Temp\\ipykernel_8172\\147098761.py:2: UserWarning: Ignoring `palette` because no `hue` variable has been assigned.\n",
      "  sns.histplot(output_df['Actual'],palette='pastel',label=\"actual\")\n",
      "C:\\Users\\routj\\AppData\\Local\\Temp\\ipykernel_8172\\147098761.py:3: UserWarning: Ignoring `palette` because no `hue` variable has been assigned.\n",
      "  sns.histplot(output_df['RandomForestClassifier Predictions'],palette='pastel',label=\"prediction\", binwidth=0.1, shrink=0.8)\n"
     ]
    },
    {
     "data": {
      "text/plain": [
       "<matplotlib.legend.Legend at 0x1bb85d46110>"
      ]
     },
     "execution_count": 39,
     "metadata": {},
     "output_type": "execute_result"
    },
    {
     "data": {
      "image/png": "[encoded data removed]",
      "text/plain": [
       "<Figure size 800x300 with 1 Axes>"
      ]
     },
     "metadata": {},
     "output_type": "display_data"
    }
   ],
   "source": [
    "fig, (ax1) = plt.subplots(1, figsize=(8, 3))\n",
    "sns.histplot(output_df['Actual'],palette='pastel',label=\"actual\")\n",
    "sns.histplot(output_df['RandomForestClassifier Predictions'],palette='pastel',label=\"prediction\", binwidth=0.1, shrink=0.8)\n",
    "plt.xlabel('quality')\n",
    "plt.ylabel('No of Customers')\n",
    "plt.title('Random Forest Classifier')\n",
    "plt.xticks([0, 1])  \n",
    "plt.legend()"
   ]
  },
  {
   "cell_type": "code",
   "execution_count": 40,
   "id": "083d8315",
   "metadata": {},
   "outputs": [],
   "source": [
    "models = ['Logistic Regression','knn','Decision Tree','Random Forest','SVM']\n",
    "accuracy = [67.93,67.69,72.24,77.81,67.69]"
   ]
  },
  {
   "cell_type": "code",
   "execution_count": 41,
   "id": "138b85c6",
   "metadata": {},
   "outputs": [],
   "source": [
    "Models_Accuracy_df = pd.DataFrame({'Model': models, 'Accuracy': accuracy})"
   ]
  },
  {
   "cell_type": "code",
   "execution_count": 42,
   "id": "33c0e8aa",
   "metadata": {},
   "outputs": [
    {
     "data": {
      "image/png": "[encoded data removed]",
      "text/plain": [
       "<Figure size 1000x600 with 1 Axes>"
      ]
     },
     "metadata": {},
     "output_type": "display_data"
    }
   ],
   "source": [
    "plt.figure(figsize=(10, 6))\n",
    "sns.barplot(x='Model', y='Accuracy', data=Models_Accuracy_df, palette='pastel')\n",
    "plt.xlabel('Models')\n",
    "plt.ylabel('Accuracy')\n",
    "plt.title('Accuracy of Different Models')\n",
    "plt.ylim(0, 100)\n",
    "plt.yticks(range(10,100,10))\n",
    "plt.show()"
   ]
  },
  {
   "cell_type": "markdown",
   "id": "53d9d3e5",
   "metadata": {},
   "source": [
    "### Conclusion"
   ]
  },
  {
   "cell_type": "markdown",
   "id": "47644b55",
   "metadata": {},
   "source": [
    "`OBSERVATION`\n",
    "- Random Forest predicts highest accuracy than other models.\n",
    "- Decision Tree also showing better performance than Logistic,KNN and SVM.\n",
    "- SVM and KNN show similar kind of performance.\n",
    "- Logistic regression aslo perform well."
   ]
  },
  {
   "cell_type": "code",
   "execution_count": 61,
   "id": "6b3c0813",
   "metadata": {},
   "outputs": [],
   "source": [
    "models = ['Logistic Regression','knn','Decision Tree','SVM']\n",
    "accuracy = [67.93,67.69,72.24,67.69]"
   ]
  },
  {
   "cell_type": "code",
   "execution_count": 62,
   "id": "273f0448",
   "metadata": {},
   "outputs": [],
   "source": [
    "Models_Accuracy_df = pd.DataFrame({'Model': models, 'Accuracy': accuracy})"
   ]
  },
  {
   "cell_type": "code",
   "execution_count": 63,
   "id": "50d1045b",
   "metadata": {},
   "outputs": [
    {
     "data": {
      "image/png": "[encoded data removed]",
      "text/plain": [
       "<Figure size 1000x600 with 1 Axes>"
      ]
     },
     "metadata": {},
     "output_type": "display_data"
    }
   ],
   "source": [
    "plt.figure(figsize=(10, 6))\n",
    "sns.barplot(x='Model', y='Accuracy', data=Models_Accuracy_df, palette='pastel')\n",
    "plt.xlabel('Models')\n",
    "plt.ylabel('Accuracy')\n",
    "plt.title('Accuracy of Different Models')\n",
    "plt.ylim(0, 100)\n",
    "plt.yticks(range(10,100,10))\n",
    "plt.show()"
   ]
  },
  {
   "cell_type": "markdown",
   "id": "98cc5f55",
   "metadata": {},
   "source": [
    "### Training Time"
   ]
  },
  {
   "cell_type": "code",
   "execution_count": 59,
   "id": "8fac3c4d",
   "metadata": {},
   "outputs": [
    {
     "data": {
      "image/png": "[encoded data removed]",
      "text/plain": [
       "<Figure size 1000x600 with 1 Axes>"
      ]
     },
     "metadata": {},
     "output_type": "display_data"
    }
   ],
   "source": [
    "import pandas as pd\n",
    "import matplotlib.pyplot as plt\n",
    "import seaborn as sns\n",
    "\n",
    "# Data\n",
    "models = ['Logistic Regression', 'knn', 'Decision Tree', 'Random Forest', 'SVM']\n",
    "time = [0.31, 0.02, 0.00, 2.48, 1.95]\n",
    "\n",
    "# Create DataFrame\n",
    "Models_time_df = pd.DataFrame({'Model': models, 'time': time})\n",
    "\n",
    "# Plot\n",
    "plt.figure(figsize=(10, 6))\n",
    "sns.barplot(x='Model', y='time', data=Models_time_df, palette='pastel')\n",
    "plt.xlabel('Models')\n",
    "plt.ylabel('Training Time')\n",
    "plt.title('Training Time of Different Models')\n",
    "plt.ylim(0, 3)  # Adjust y-axis limit to better reflect the actual times\n",
    "plt.yticks([i*0.5 for i in range(7)])  # Set y-ticks at 0.5-second intervals\n",
    "\n",
    "# Display plot\n",
    "plt.show()\n"
   ]
  },
  {
   "cell_type": "markdown",
   "id": "49e60e27",
   "metadata": {},
   "source": [
    "### Testing Time"
   ]
  },
  {
   "cell_type": "code",
   "execution_count": 58,
   "id": "19e68f2a",
   "metadata": {},
   "outputs": [
    {
     "data": {
      "image/png": "[encoded data removed]",
      "text/plain": [
       "<Figure size 1000x600 with 1 Axes>"
      ]
     },
     "metadata": {},
     "output_type": "display_data"
    }
   ],
   "source": [
    "import pandas as pd\n",
    "import matplotlib.pyplot as plt\n",
    "import seaborn as sns\n",
    "\n",
    "# Data\n",
    "models = ['Logistic Regression', 'knn', 'Decision Tree', 'Random Forest', 'SVM']\n",
    "time =[0.00,0.34,0.13, 0.08,0.47]\n",
    "\n",
    "# Create DataFrame\n",
    "Models_time_df = pd.DataFrame({'Model': models, 'time': time})\n",
    "\n",
    "# Plot\n",
    "plt.figure(figsize=(10, 6))\n",
    "sns.barplot(x='Model', y='time', data=Models_time_df, palette='pastel')\n",
    "plt.xlabel('Models')\n",
    "plt.ylabel('Testing Time')\n",
    "plt.title('Testing Time of Different Models')\n",
    "plt.ylim(0, 3)  # Adjust y-axis limit to better reflect the actual times\n",
    "plt.yticks([i*0.5 for i in range(7)])  # Set y-ticks at 0.5-second intervals\n",
    "\n",
    "# Display plot\n",
    "plt.show()\n"
   ]
  },
  {
   "cell_type": "code",
   "execution_count": null,
   "id": "3a0c3fe5",
   "metadata": {},
   "outputs": [],
   "source": []
  }
 ],
 "metadata": {
  "kernelspec": {
   "display_name": "Python 3 (ipykernel)",
   "language": "python",
   "name": "python3"
  },
  "language_info": {
   "codemirror_mode": {
    "name": "ipython",
    "version": 3
   },
   "file_extension": ".py",
   "mimetype": "text/x-python",
   "name": "python",
   "nbconvert_exporter": "python",
   "pygments_lexer": "ipython3",
   "version": "3.10.9"
  }
 },
 "nbformat": 4,
 "nbformat_minor": 5
}
